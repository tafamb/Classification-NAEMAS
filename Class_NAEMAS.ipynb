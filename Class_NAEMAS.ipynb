{
 "cells": [
  {
   "cell_type": "markdown",
   "metadata": {},
   "source": [
    "# <b> NOTE BOOK PROJET DE CLASSIFICATION AUTOMATIQUE DES ENTRPRISES SELON LE CODE NAEMAS </b>"
   ]
  },
  {
   "cell_type": "code",
   "execution_count": 1,
   "metadata": {},
   "outputs": [
    {
     "data": {
      "text/plain": [
       "'C:\\\\Users\\\\mombengue\\\\Desktop\\\\REP_PYTHON'"
      ]
     },
     "execution_count": 1,
     "metadata": {},
     "output_type": "execute_result"
    }
   ],
   "source": [
    "\n",
    "import os\n",
    "os.chdir('C:/Users/mombengue/Desktop/REP_PYTHON')\n",
    "os.getcwd()\n"
   ]
  },
  {
   "cell_type": "markdown",
   "metadata": {},
   "source": [
    "# <b> I. PREPARATION DES DONNEES </b>"
   ]
  },
  {
   "cell_type": "code",
   "execution_count": 2,
   "metadata": {},
   "outputs": [],
   "source": [
    "# Installation du module pandas dans cet environnement\n",
    "#! pip install pandas"
   ]
  },
  {
   "cell_type": "code",
   "execution_count": 3,
   "metadata": {},
   "outputs": [],
   "source": [
    "# installation de la  dépendance openpyxl.\n",
    "#!pip install openpyxl\n",
    "# installation de nltk\n",
    "#!pip install nltk"
   ]
  },
  {
   "cell_type": "code",
   "execution_count": 4,
   "metadata": {},
   "outputs": [
    {
     "data": {
      "text/plain": [
       "(25643, 14)"
      ]
     },
     "execution_count": 4,
     "metadata": {},
     "output_type": "execute_result"
    }
   ],
   "source": [
    "# Chargement de la base\n",
    "import pandas as pd\n",
    "base=pd.read_excel(\"repertoire_entreprise_2022.xlsx\", sheet_name=0)\n",
    "base.shape\n"
   ]
  },
  {
   "cell_type": "code",
   "execution_count": 5,
   "metadata": {},
   "outputs": [
    {
     "data": {
      "text/html": [
       "<div>\n",
       "<style scoped>\n",
       "    .dataframe tbody tr th:only-of-type {\n",
       "        vertical-align: middle;\n",
       "    }\n",
       "\n",
       "    .dataframe tbody tr th {\n",
       "        vertical-align: top;\n",
       "    }\n",
       "\n",
       "    .dataframe thead th {\n",
       "        text-align: right;\n",
       "    }\n",
       "</style>\n",
       "<table border=\"1\" class=\"dataframe\">\n",
       "  <thead>\n",
       "    <tr style=\"text-align: right;\">\n",
       "      <th></th>\n",
       "      <th>DESIGNATION_PRECISE_ACTIVITE</th>\n",
       "      <th>NAEMAS</th>\n",
       "    </tr>\n",
       "  </thead>\n",
       "  <tbody>\n",
       "    <tr>\n",
       "      <th>0</th>\n",
       "      <td>BOULANGERIE</td>\n",
       "      <td>F00060</td>\n",
       "    </tr>\n",
       "    <tr>\n",
       "      <th>1</th>\n",
       "      <td>COMMERCE GENERAL</td>\n",
       "      <td>N00030</td>\n",
       "    </tr>\n",
       "    <tr>\n",
       "      <th>2</th>\n",
       "      <td>VENTE DE CARTES POSTALES (EX-EDITION)</td>\n",
       "      <td>Q00050</td>\n",
       "    </tr>\n",
       "    <tr>\n",
       "      <th>3</th>\n",
       "      <td>SERVICE</td>\n",
       "      <td>N00020</td>\n",
       "    </tr>\n",
       "    <tr>\n",
       "      <th>4</th>\n",
       "      <td>OPTICIEN</td>\n",
       "      <td>J00140</td>\n",
       "    </tr>\n",
       "    <tr>\n",
       "      <th>5</th>\n",
       "      <td>LOCATION DE BIENS IMMOBILIERS</td>\n",
       "      <td>S00000</td>\n",
       "    </tr>\n",
       "    <tr>\n",
       "      <th>6</th>\n",
       "      <td>GARDIENNAGE</td>\n",
       "      <td>U00030</td>\n",
       "    </tr>\n",
       "    <tr>\n",
       "      <th>7</th>\n",
       "      <td>BTP</td>\n",
       "      <td>M00020</td>\n",
       "    </tr>\n",
       "    <tr>\n",
       "      <th>8</th>\n",
       "      <td>NaN</td>\n",
       "      <td>K00010</td>\n",
       "    </tr>\n",
       "    <tr>\n",
       "      <th>9</th>\n",
       "      <td>ACTIVITES POUR LA SANTE DES HOMMES (OPHTALMOLO...</td>\n",
       "      <td>X00010</td>\n",
       "    </tr>\n",
       "  </tbody>\n",
       "</table>\n",
       "</div>"
      ],
      "text/plain": [
       "                        DESIGNATION_PRECISE_ACTIVITE  NAEMAS\n",
       "0                                        BOULANGERIE  F00060\n",
       "1                                   COMMERCE GENERAL  N00030\n",
       "2              VENTE DE CARTES POSTALES (EX-EDITION)  Q00050\n",
       "3                                            SERVICE  N00020\n",
       "4                                           OPTICIEN  J00140\n",
       "5                      LOCATION DE BIENS IMMOBILIERS  S00000\n",
       "6                                        GARDIENNAGE  U00030\n",
       "7                                                BTP  M00020\n",
       "8                                                NaN  K00010\n",
       "9  ACTIVITES POUR LA SANTE DES HOMMES (OPHTALMOLO...  X00010"
      ]
     },
     "execution_count": 5,
     "metadata": {},
     "output_type": "execute_result"
    }
   ],
   "source": [
    "# Selection des variables en jeu\n",
    "df=base[[\"DESIGNATION_PRECISE_ACTIVITE\",\"NAEMAS\"]]\n",
    "df.head(10)"
   ]
  },
  {
   "cell_type": "code",
   "execution_count": 6,
   "metadata": {},
   "outputs": [
    {
     "data": {
      "text/plain": [
       "(25643, 2)"
      ]
     },
     "execution_count": 6,
     "metadata": {},
     "output_type": "execute_result"
    }
   ],
   "source": [
    "df.shape"
   ]
  },
  {
   "cell_type": "code",
   "execution_count": 7,
   "metadata": {},
   "outputs": [
    {
     "data": {
      "text/plain": [
       "DESIGNATION_PRECISE_ACTIVITE    856\n",
       "NAEMAS                            5\n",
       "dtype: int64"
      ]
     },
     "execution_count": 7,
     "metadata": {},
     "output_type": "execute_result"
    }
   ],
   "source": [
    "# Détection des lignes manquantes \n",
    "df.isnull().sum() "
   ]
  },
  {
   "cell_type": "code",
   "execution_count": 8,
   "metadata": {},
   "outputs": [
    {
     "data": {
      "text/plain": [
       "DESIGNATION_PRECISE_ACTIVITE    0\n",
       "NAEMAS                          0\n",
       "dtype: int64"
      ]
     },
     "execution_count": 8,
     "metadata": {},
     "output_type": "execute_result"
    }
   ],
   "source": [
    "# Suppression des lignes manquantes\n",
    "df= df.dropna()\n",
    "df.isnull().sum()"
   ]
  },
  {
   "cell_type": "markdown",
   "metadata": {},
   "source": [
    "# <b> II. METHODE DE COMPARAISON DES VECTEURS DE MOTS </b>"
   ]
  },
  {
   "cell_type": "markdown",
   "metadata": {},
   "source": [
    "# Principe\n",
    "\n",
    "- D'abord, on regroupe sous forme de vecteurs de mots les descriptions des activités principales des entreprises ayant le même code NAEMAS. Ces vecteurs de mots sont donc étiquetés avec un code NAEMAS.\n",
    "\n",
    "- Ensuite, pour chaque nouvelle entreprise à classer, on regroupe la description de son activité sous forme d'un vecteur de mots et on le compare aux différents vecteurs étiquetés.\n",
    "\n",
    "- Enfin, l'entreprise à classer sera affectée au code NAEMAS du vecteur étiqueté dont elle est la plus proche (c'est à dire similaire).\n",
    "\n",
    "# Metrique de comparaison\n",
    "La comparaison des vecteurs se fait sur la base d'une métrique. La métrique utilisée pour comparer les vecteur est la <b> similarité cosinus </b>\n",
    "\n",
    "La similarité cosinus mesure l'angle entre deux vecteurs dans un espace vectoriel. Elle est définie comme le produit scalaire des vecteurs divisé par le produit des normes des vecteurs. Elle varie entre -1 et 1 :\n",
    "\n",
    "1 signifie que les vecteurs sont identiques (donc plus la mesure est proche de 1 plus le deux vecteurs sont similaires) <br>\n",
    "0 signifie qu'ils sont orthogonaux (aucune similarité). <br>\n",
    "-1 signifie qu'ils sont diamétralement opposés (inversion totale, ce qui est rare dans le contexte de similarité textuelle).\n"
   ]
  },
  {
   "cell_type": "code",
   "execution_count": 9,
   "metadata": {},
   "outputs": [
    {
     "name": "stderr",
     "output_type": "stream",
     "text": [
      "[nltk_data] Downloading package stopwords to\n",
      "[nltk_data]     C:\\Users\\mombengue\\AppData\\Roaming\\nltk_data...\n",
      "[nltk_data]   Package stopwords is already up-to-date!\n"
     ]
    }
   ],
   "source": [
    "import nltk\n",
    "from nltk.corpus import stopwords\n",
    "\n",
    "# Télécharger les stop words de NLTK (à faire une seule fois)\n",
    "nltk.download('stopwords')\n",
    "\n",
    "# Récupérer la liste des stop words en français\n",
    "stop_words = set(stopwords.words('french'))\n",
    "\n",
    "# Fonction pour filtrer les stop words dans une chaîne de caractères\n",
    "\n",
    "def remove_stopwords(text, stop_words):\n",
    "    \n",
    "    words = text.split()  # Tokenisation\n",
    "    filtered_words = [word for word in words if word.lower() not in stop_words]\n",
    "    return ' '.join(filtered_words)  # Reconstituer la chaîne de caractères"
   ]
  },
  {
   "cell_type": "code",
   "execution_count": 10,
   "metadata": {},
   "outputs": [],
   "source": [
    "\n",
    "# Récupération du code 'NAEMAS' sous forme de liste\n",
    "Code = list(df['NAEMAS'].unique())\n",
    "\n",
    "# Initialiser un dictionnaire vide pour stocker les résultats\n",
    "Dicto = {}\n",
    "\n",
    "# Parcourir les valeurs dans 'Code'\n",
    "for k in Code:\n",
    "    # Regroupement des descriptions d'activités ayant le même code NAEMAS\n",
    "    desc = df[df['NAEMAS'] == k]['DESIGNATION_PRECISE_ACTIVITE'].tolist()\n",
    "\n",
    "    # Appliquer la fonction remove_stopwords() à chaque chaîne de caractères pour chaque liste du dictionnaire\n",
    "\n",
    "    filtered_list_of_strings = [remove_stopwords(sentence, stop_words) for sentence in desc]\n",
    "    \n",
    "    # Associer la liste filtered_list_of_strings au clé correspondant dans le dictionnaire\n",
    "    Dicto[k] = filtered_list_of_strings \n",
    "\n",
    "# Afficher le résultat\n",
    "#print(Dicto)\n"
   ]
  },
  {
   "cell_type": "code",
   "execution_count": 11,
   "metadata": {},
   "outputs": [],
   "source": [
    "# installation de matplotlib pour cet environnement\n",
    "#!pip install matplotlib"
   ]
  },
  {
   "cell_type": "code",
   "execution_count": 12,
   "metadata": {},
   "outputs": [],
   "source": [
    "# installation de wordcloud dans l'environnement\n",
    "#!pip install wordcloud"
   ]
  },
  {
   "cell_type": "code",
   "execution_count": 16,
   "metadata": {},
   "outputs": [],
   "source": [
    "\n",
    "import matplotlib.pyplot as plt\n",
    "from wordcloud import WordCloud\n",
    "\n",
    "# Parcourir chaque clé et générer un nuage de mots pour chaque groupe\n",
    "\n",
    "for key, activities in Dicto.items():\n",
    "    \n",
    "    # Combiner les activités en une seule chaîne de texte\n",
    "    text = ' '.join(activities)\n",
    "    \n",
    "    # Créer un objet WordCloud\n",
    "    \n",
    "    wordcloud = WordCloud(width=800, height=400, background_color='white').generate(text)\n",
    "    \n",
    "    # Afficher le nuage de mots\n",
    "    \n",
    "   #plt.figure(figsize=(10, 5))\n",
    "   # plt.imshow(wordcloud, interpolation='bilinear')\n",
    "    #plt.title(f'Nuage de mots pour la clé {key}', pad=30)\n",
    "   # plt.axis('off')\n",
    "   # plt.show()\n"
   ]
  },
  {
   "cell_type": "code",
   "execution_count": 15,
   "metadata": {},
   "outputs": [
    {
     "name": "stdout",
     "output_type": "stream",
     "text": [
      "Similarité entre vecteur4 et vecteur_1: 0.0072\n",
      "Similarité entre vecteur4 et vecteur_2: 0.1021\n",
      "Similarité entre vecteur4 et vecteur_3: 0.0520\n",
      "Similarité entre vecteur4 et vecteur_4: 0.0629\n",
      "Similarité entre vecteur4 et vecteur_5: 0.0262\n",
      "Similarité entre vecteur4 et vecteur_6: 0.0096\n",
      "Similarité entre vecteur4 et vecteur_7: 0.0282\n",
      "Similarité entre vecteur4 et vecteur_8: 0.0057\n",
      "Similarité entre vecteur4 et vecteur_9: 0.0033\n",
      "Similarité entre vecteur4 et vecteur_10: 0.1244\n",
      "Similarité entre vecteur4 et vecteur_11: 0.0694\n",
      "Similarité entre vecteur4 et vecteur_12: 0.0019\n",
      "Similarité entre vecteur4 et vecteur_13: 0.0191\n",
      "Similarité entre vecteur4 et vecteur_14: 0.0123\n",
      "Similarité entre vecteur4 et vecteur_15: 0.0092\n",
      "Similarité entre vecteur4 et vecteur_16: 0.0156\n",
      "Similarité entre vecteur4 et vecteur_17: 0.0199\n",
      "Similarité entre vecteur4 et vecteur_18: 0.0051\n",
      "Similarité entre vecteur4 et vecteur_19: 0.0084\n",
      "Similarité entre vecteur4 et vecteur_20: 0.0393\n",
      "Similarité entre vecteur4 et vecteur_21: 0.0297\n",
      "Similarité entre vecteur4 et vecteur_22: 0.0486\n",
      "Similarité entre vecteur4 et vecteur_23: 0.0024\n",
      "Similarité entre vecteur4 et vecteur_24: 0.0102\n",
      "Similarité entre vecteur4 et vecteur_25: 0.0178\n",
      "Similarité entre vecteur4 et vecteur_26: 0.0000\n",
      "Similarité entre vecteur4 et vecteur_27: 0.0456\n",
      "Similarité entre vecteur4 et vecteur_28: 0.0066\n",
      "Similarité entre vecteur4 et vecteur_29: 0.0259\n",
      "Similarité entre vecteur4 et vecteur_30: 0.0205\n",
      "Similarité entre vecteur4 et vecteur_31: 0.0138\n",
      "Similarité entre vecteur4 et vecteur_32: 0.0314\n",
      "Similarité entre vecteur4 et vecteur_33: 0.0778\n",
      "Similarité entre vecteur4 et vecteur_34: 0.0128\n",
      "Similarité entre vecteur4 et vecteur_35: 0.0185\n",
      "Similarité entre vecteur4 et vecteur_36: 0.0094\n",
      "Similarité entre vecteur4 et vecteur_37: 0.0240\n",
      "Similarité entre vecteur4 et vecteur_38: 0.0293\n",
      "Similarité entre vecteur4 et vecteur_39: 0.0340\n",
      "Similarité entre vecteur4 et vecteur_40: 0.0127\n",
      "Similarité entre vecteur4 et vecteur_41: 0.0017\n",
      "Similarité entre vecteur4 et vecteur_42: 0.0055\n",
      "Similarité entre vecteur4 et vecteur_43: 0.0430\n",
      "Similarité entre vecteur4 et vecteur_44: 0.0000\n",
      "Similarité entre vecteur4 et vecteur_45: 0.0066\n",
      "Similarité entre vecteur4 et vecteur_46: 0.0259\n",
      "Similarité entre vecteur4 et vecteur_47: 0.0054\n",
      "Similarité entre vecteur4 et vecteur_48: 0.0000\n",
      "Similarité entre vecteur4 et vecteur_49: 0.0377\n",
      "Similarité entre vecteur4 et vecteur_50: 0.0444\n",
      "Similarité entre vecteur4 et vecteur_51: 0.0155\n",
      "Similarité entre vecteur4 et vecteur_52: 0.0351\n",
      "Similarité entre vecteur4 et vecteur_53: 0.0316\n",
      "Similarité entre vecteur4 et vecteur_54: 0.0326\n",
      "Similarité entre vecteur4 et vecteur_55: 0.0000\n",
      "Similarité entre vecteur4 et vecteur_56: 0.0104\n",
      "Similarité entre vecteur4 et vecteur_57: 0.0117\n",
      "Similarité entre vecteur4 et vecteur_58: 0.0060\n",
      "Similarité entre vecteur4 et vecteur_59: 0.0366\n",
      "Similarité entre vecteur4 et vecteur_60: 0.0070\n",
      "Similarité entre vecteur4 et vecteur_61: 0.0320\n",
      "Similarité entre vecteur4 et vecteur_62: 0.0258\n",
      "Similarité entre vecteur4 et vecteur_63: 0.0617\n",
      "Similarité entre vecteur4 et vecteur_64: 0.0203\n",
      "Similarité entre vecteur4 et vecteur_65: 0.0075\n",
      "Similarité entre vecteur4 et vecteur_66: 0.0769\n",
      "Similarité entre vecteur4 et vecteur_67: 0.0307\n",
      "Similarité entre vecteur4 et vecteur_68: 0.0033\n",
      "Similarité entre vecteur4 et vecteur_69: 0.0689\n",
      "Similarité entre vecteur4 et vecteur_70: 0.0117\n",
      "Similarité entre vecteur4 et vecteur_71: 0.0097\n",
      "Similarité entre vecteur4 et vecteur_72: 0.0082\n",
      "Similarité entre vecteur4 et vecteur_73: 0.0113\n",
      "Similarité entre vecteur4 et vecteur_74: 0.0401\n",
      "Similarité entre vecteur4 et vecteur_75: 0.0377\n",
      "Similarité entre vecteur4 et vecteur_76: 0.0228\n",
      "Similarité entre vecteur4 et vecteur_77: 0.0098\n",
      "Similarité entre vecteur4 et vecteur_78: 0.0087\n",
      "Similarité entre vecteur4 et vecteur_79: 0.0000\n",
      "Similarité entre vecteur4 et vecteur_80: 0.0140\n",
      "Similarité entre vecteur4 et vecteur_81: 0.0000\n",
      "Similarité entre vecteur4 et vecteur_82: 0.0000\n",
      "Similarité entre vecteur4 et vecteur_83: 0.0161\n",
      "Similarité entre vecteur4 et vecteur_84: 0.0108\n",
      "Similarité entre vecteur4 et vecteur_85: 0.0000\n",
      "Similarité entre vecteur4 et vecteur_86: 0.0157\n",
      "Similarité entre vecteur4 et vecteur_87: 0.0000\n",
      "Similarité entre vecteur4 et vecteur_88: 0.0000\n",
      "Similarité entre vecteur4 et vecteur_89: 0.0267\n",
      "Similarité entre vecteur4 et vecteur_90: 0.0382\n",
      "Similarité entre vecteur4 et vecteur_91: 0.0550\n",
      "Similarité entre vecteur4 et vecteur_92: 0.0000\n",
      "Similarité entre vecteur4 et vecteur_93: 0.0000\n",
      "Similarité entre vecteur4 et vecteur_94: 0.0000\n",
      "Similarité entre vecteur4 et vecteur_95: 0.0000\n",
      "Similarité entre vecteur4 et vecteur_96: 0.0170\n",
      "Similarité entre vecteur4 et vecteur_97: 0.0000\n",
      "Similarité entre vecteur4 et vecteur_98: 0.0000\n"
     ]
    }
   ],
   "source": [
    "vecteurs = []\n",
    "for k, activities in Dicto.items():\n",
    "    \n",
    "    # Combiner les activités en une seule chaîne de texte\n",
    "     vect_k= ' '.join(activities)\n",
    "     vecteurs.append(vect_k)\n",
    "\n",
    "\n",
    "\n",
    "import numpy as np\n",
    "from sklearn.feature_extraction.text import CountVectorizer,TfidfVectorizer\n",
    "from sklearn.metrics.pairwise import cosine_similarity\n",
    "\n",
    "vecteur_a_comparer = \"PRESTATIONS DE SERVICES ( 63%)- VENTE DE MARCHANDISES (37%) -PRODUITS DIVERS\"\n",
    "# Utiliser le TfidfVectorizer\n",
    "vectorizer = TfidfVectorizer()\n",
    "\n",
    "# Convertir les vecteurs en une matrice TF-IDF\n",
    "vecteurs_matrice = vectorizer.fit_transform(vecteurs + [vecteur_a_comparer])\n",
    "\n",
    "# Calculer la similarité cosinus\n",
    "similarites = cosine_similarity(vecteurs_matrice)\n",
    "\n",
    "# Extraire les similarités du vecteur à comparer\n",
    "similarites_vecteur_a_comparer = similarites[-1][:-1]\n",
    "\n",
    "# Afficher les résultats\n",
    "for i, similarite in enumerate(similarites_vecteur_a_comparer):\n",
    "      print(f\"Similarité entre vecteur4 et vecteur_{i+1}: {similarite:.4f}\")"
   ]
  },
  {
   "cell_type": "code",
   "execution_count": null,
   "metadata": {},
   "outputs": [],
   "source": []
  },
  {
   "cell_type": "code",
   "execution_count": null,
   "metadata": {},
   "outputs": [],
   "source": []
  },
  {
   "cell_type": "code",
   "execution_count": null,
   "metadata": {},
   "outputs": [],
   "source": []
  },
  {
   "cell_type": "code",
   "execution_count": null,
   "metadata": {},
   "outputs": [],
   "source": []
  },
  {
   "cell_type": "code",
   "execution_count": null,
   "metadata": {},
   "outputs": [],
   "source": []
  },
  {
   "cell_type": "code",
   "execution_count": null,
   "metadata": {},
   "outputs": [],
   "source": []
  },
  {
   "cell_type": "code",
   "execution_count": 11,
   "metadata": {},
   "outputs": [],
   "source": [
    "#! pip install scikit-learn"
   ]
  },
  {
   "cell_type": "markdown",
   "metadata": {},
   "source": [
    "Explication du Code\n",
    "CountVectorizer : Il convertit les textes en une matrice de fréquence de mots. Chaque mot dans le texte devient une caractéristique dans la matrice.\n",
    "\n",
    "cosine_similarity : Cette fonction calcule la similarité cosinus entre les vecteurs de caractéristiques. La similarité cosinus est une mesure de similarité qui calcule le cosinus de l'angle entre deux vecteurs dans un espace multidimensionnel. C'est une mesure couramment utilisée pour comparer des documents textuels.\n",
    "\n",
    "Matrice de Similarité : cosine_similarity retourne une matrice où chaque entrée [i, j] représente la similarité entre le i-ème et le j-ème vecteur.\n",
    "\n",
    "Extraction des Similarités : La dernière ligne de la matrice contient les similarités entre le vecteur à comparer (vecteur_4) et tous les autres vecteurs."
   ]
  },
  {
   "cell_type": "code",
   "execution_count": null,
   "metadata": {},
   "outputs": [],
   "source": []
  },
  {
   "cell_type": "markdown",
   "metadata": {},
   "source": [
    "Utilisation Avancée\n",
    "Pour des analyses plus sophistiquées, vous pouvez également envisager d'autres techniques de vectorisation et de mesures de similarité, telles que :\n",
    "\n",
    "Word2Vec : Pour obtenir des vecteurs de mots basés sur des modèles de langage plus complexes.\n",
    "Doc2Vec : Pour représenter des documents (ou des nuages de mots) en tant que vecteurs.\n",
    "BERT : Pour des représentations contextuelles des mots et des phrases.\n",
    "Ces techniques peuvent capturer des nuances plus subtiles dans les textes et améliorer la précision de vos comparaisons. Voici un exemple utilisant TfidfVectorizer :"
   ]
  },
  {
   "cell_type": "markdown",
   "metadata": {},
   "source": [
    "Le TfidfVectorizer est une classe de la bibliothèque scikit-learn en Python qui permet de convertir une collection de documents de texte brut en une matrice de caractéristiques TF-IDF (Term Frequency-Inverse Document Frequency).\n",
    "Le TF-IDF est une technique utilisée pour évaluer l'importance d'un mot dans un document par rapport à un corpus de documents.\n",
    "\n",
    "Comment Fonctionne le TF-IDF\n",
    "\n",
    "Term Frequency (TF) : Mesure la fréquence d'un terme dans un document. Elle est souvent normalisée pour éviter un biais en faveur de longs documents.\n",
    "​\n",
    "Inverse Document Frequency (IDF) : Mesure l'importance d'un terme dans le corpus entier. Elle diminue le poids des termes très fréquents dans le corpus et augmente celui des termes rares.\n",
    "\n",
    "TF-IDF : Combinaison des deux mesures, calculée comme le produit de TF et IDF :\n",
    "\n",
    "TF-IDF(t,d,D)=TF(t,d)×IDF(t,D)\n",
    "\n",
    "Utilisation de TfidfVectorizer en Python\n",
    "Voici un exemple de code complet utilisant TfidfVectorizer pour transformer des textes en vecteurs TF-IDF et comparer leur similarité :"
   ]
  },
  {
   "cell_type": "code",
   "execution_count": null,
   "metadata": {},
   "outputs": [],
   "source": []
  },
  {
   "cell_type": "code",
   "execution_count": null,
   "metadata": {},
   "outputs": [],
   "source": []
  },
  {
   "cell_type": "code",
   "execution_count": null,
   "metadata": {},
   "outputs": [],
   "source": []
  },
  {
   "cell_type": "code",
   "execution_count": null,
   "metadata": {},
   "outputs": [],
   "source": []
  },
  {
   "cell_type": "code",
   "execution_count": null,
   "metadata": {},
   "outputs": [],
   "source": []
  }
 ],
 "metadata": {
  "kernelspec": {
   "display_name": "Python 3 (ipykernel)",
   "language": "python",
   "name": "python3"
  },
  "language_info": {
   "codemirror_mode": {
    "name": "ipython",
    "version": 3
   },
   "file_extension": ".py",
   "mimetype": "text/x-python",
   "name": "python",
   "nbconvert_exporter": "python",
   "pygments_lexer": "ipython3",
   "version": "3.11.9"
  }
 },
 "nbformat": 4,
 "nbformat_minor": 4
}
