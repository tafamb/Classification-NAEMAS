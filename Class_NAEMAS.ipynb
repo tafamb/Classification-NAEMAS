{
 "cells": [
  {
   "cell_type": "code",
   "execution_count": 1,
   "metadata": {},
   "outputs": [
    {
     "data": {
      "text/plain": [
       "'C:\\\\Users\\\\mombengue\\\\Desktop\\\\REP_PYTHON'"
      ]
     },
     "execution_count": 1,
     "metadata": {},
     "output_type": "execute_result"
    }
   ],
   "source": [
    "\n",
    "import os\n",
    "os.chdir('C:/Users/mombengue/Desktop/REP_PYTHON')\n",
    "os.getcwd()\n"
   ]
  },
  {
   "cell_type": "code",
   "execution_count": 4,
   "metadata": {},
   "outputs": [],
   "source": [
    "# Installation du module pandas dans cet environnement\n",
    "#! pip install pandas"
   ]
  },
  {
   "cell_type": "code",
   "execution_count": 7,
   "metadata": {},
   "outputs": [],
   "source": [
    "# installation de la  dépendance openpyxl.\n",
    "#!pip install openpyxl"
   ]
  },
  {
   "cell_type": "code",
   "execution_count": 8,
   "metadata": {},
   "outputs": [
    {
     "data": {
      "text/plain": [
       "(25643, 14)"
      ]
     },
     "execution_count": 8,
     "metadata": {},
     "output_type": "execute_result"
    }
   ],
   "source": [
    "# Chargement de la base\n",
    "import pandas as pd\n",
    "base=pd.read_excel(\"repertoire_entreprise_2022.xlsx\", sheet_name=0)\n",
    "base.shape\n"
   ]
  },
  {
   "cell_type": "code",
   "execution_count": 9,
   "metadata": {},
   "outputs": [
    {
     "data": {
      "text/html": [
       "<div>\n",
       "<style scoped>\n",
       "    .dataframe tbody tr th:only-of-type {\n",
       "        vertical-align: middle;\n",
       "    }\n",
       "\n",
       "    .dataframe tbody tr th {\n",
       "        vertical-align: top;\n",
       "    }\n",
       "\n",
       "    .dataframe thead th {\n",
       "        text-align: right;\n",
       "    }\n",
       "</style>\n",
       "<table border=\"1\" class=\"dataframe\">\n",
       "  <thead>\n",
       "    <tr style=\"text-align: right;\">\n",
       "      <th></th>\n",
       "      <th>DESIGNATION_PRECISE_ACTIVITE</th>\n",
       "      <th>NAEMAS</th>\n",
       "    </tr>\n",
       "  </thead>\n",
       "  <tbody>\n",
       "    <tr>\n",
       "      <th>0</th>\n",
       "      <td>BOULANGERIE</td>\n",
       "      <td>F00060</td>\n",
       "    </tr>\n",
       "    <tr>\n",
       "      <th>1</th>\n",
       "      <td>COMMERCE GENERAL</td>\n",
       "      <td>N00030</td>\n",
       "    </tr>\n",
       "    <tr>\n",
       "      <th>2</th>\n",
       "      <td>VENTE DE CARTES POSTALES (EX-EDITION)</td>\n",
       "      <td>Q00050</td>\n",
       "    </tr>\n",
       "    <tr>\n",
       "      <th>3</th>\n",
       "      <td>SERVICE</td>\n",
       "      <td>N00020</td>\n",
       "    </tr>\n",
       "    <tr>\n",
       "      <th>4</th>\n",
       "      <td>OPTICIEN</td>\n",
       "      <td>J00140</td>\n",
       "    </tr>\n",
       "    <tr>\n",
       "      <th>5</th>\n",
       "      <td>LOCATION DE BIENS IMMOBILIERS</td>\n",
       "      <td>S00000</td>\n",
       "    </tr>\n",
       "    <tr>\n",
       "      <th>6</th>\n",
       "      <td>GARDIENNAGE</td>\n",
       "      <td>U00030</td>\n",
       "    </tr>\n",
       "    <tr>\n",
       "      <th>7</th>\n",
       "      <td>BTP</td>\n",
       "      <td>M00020</td>\n",
       "    </tr>\n",
       "    <tr>\n",
       "      <th>8</th>\n",
       "      <td>NaN</td>\n",
       "      <td>K00010</td>\n",
       "    </tr>\n",
       "    <tr>\n",
       "      <th>9</th>\n",
       "      <td>ACTIVITES POUR LA SANTE DES HOMMES (OPHTALMOLO...</td>\n",
       "      <td>X00010</td>\n",
       "    </tr>\n",
       "  </tbody>\n",
       "</table>\n",
       "</div>"
      ],
      "text/plain": [
       "                        DESIGNATION_PRECISE_ACTIVITE  NAEMAS\n",
       "0                                        BOULANGERIE  F00060\n",
       "1                                   COMMERCE GENERAL  N00030\n",
       "2              VENTE DE CARTES POSTALES (EX-EDITION)  Q00050\n",
       "3                                            SERVICE  N00020\n",
       "4                                           OPTICIEN  J00140\n",
       "5                      LOCATION DE BIENS IMMOBILIERS  S00000\n",
       "6                                        GARDIENNAGE  U00030\n",
       "7                                                BTP  M00020\n",
       "8                                                NaN  K00010\n",
       "9  ACTIVITES POUR LA SANTE DES HOMMES (OPHTALMOLO...  X00010"
      ]
     },
     "execution_count": 9,
     "metadata": {},
     "output_type": "execute_result"
    }
   ],
   "source": [
    "# Selection des variables en jeu\n",
    "df=base[[\"DESIGNATION_PRECISE_ACTIVITE\",\"NAEMAS\"]]\n",
    "df.head(10)"
   ]
  },
  {
   "cell_type": "code",
   "execution_count": 10,
   "metadata": {},
   "outputs": [
    {
     "data": {
      "text/plain": [
       "(25643, 2)"
      ]
     },
     "execution_count": 10,
     "metadata": {},
     "output_type": "execute_result"
    }
   ],
   "source": [
    "df.shape"
   ]
  },
  {
   "cell_type": "code",
   "execution_count": 11,
   "metadata": {},
   "outputs": [
    {
     "data": {
      "text/plain": [
       "DESIGNATION_PRECISE_ACTIVITE    856\n",
       "NAEMAS                            5\n",
       "dtype: int64"
      ]
     },
     "execution_count": 11,
     "metadata": {},
     "output_type": "execute_result"
    }
   ],
   "source": [
    "# Détection des lignes manquantes \n",
    "df.isnull().sum() "
   ]
  },
  {
   "cell_type": "code",
   "execution_count": 12,
   "metadata": {},
   "outputs": [
    {
     "data": {
      "text/plain": [
       "DESIGNATION_PRECISE_ACTIVITE    0\n",
       "NAEMAS                          0\n",
       "dtype: int64"
      ]
     },
     "execution_count": 12,
     "metadata": {},
     "output_type": "execute_result"
    }
   ],
   "source": [
    "# Suppression des lignes manquantes\n",
    "df= df.dropna()\n",
    "df.isnull().sum()"
   ]
  },
  {
   "cell_type": "code",
   "execution_count": 13,
   "metadata": {},
   "outputs": [],
   "source": [
    "# Extraction des valeurs uniques de la colonne 'NAEMAS'\n",
    "Code = list(df['NAEMAS'].unique())\n",
    "\n",
    "# Initialiser un dictionnaire vide pour stocker les résultats\n",
    "Dicto = {}\n",
    "\n",
    "# Parcourir chaque valeur unique dans 'Code'\n",
    "for k in Code:\n",
    "    # Regroupement des descriptions d'activités ayant le même code NAEMAS\n",
    "    desc = df[df['NAEMAS'] == k]['DESIGNATION_PRECISE_ACTIVITE'].tolist()\n",
    "    \n",
    "    # Ajouter les valeurs à la liste dans le dictionnaire\n",
    "    Dicto[k] = desc\n",
    "\n",
    "# Afficher le résultat\n",
    "#print(Dicto)\n"
   ]
  },
  {
   "cell_type": "code",
   "execution_count": 16,
   "metadata": {},
   "outputs": [],
   "source": [
    "# installation de matplotlib pour cet environnement\n",
    "#!pip install matplotlib"
   ]
  },
  {
   "cell_type": "code",
   "execution_count": 19,
   "metadata": {},
   "outputs": [],
   "source": [
    "# installation de wordcloud dans l'environnement\n",
    "#!pip install wordcloud"
   ]
  },
  {
   "cell_type": "code",
   "execution_count": null,
   "metadata": {},
   "outputs": [],
   "source": [
    "\n",
    "import matplotlib.pyplot as plt\n",
    "from wordcloud import WordCloud\n",
    "\n",
    "# Parcourir chaque clé et générer un nuage de mots pour chaque groupe\n",
    "\n",
    "for key, activities in Dicto.items():\n",
    "    \n",
    "    # Combiner les activités en une seule chaîne de texte\n",
    "    text = ' '.join(activities)\n",
    "    \n",
    "    # Créer un objet WordCloud\n",
    "    \n",
    "    wordcloud = WordCloud(width=800, height=400, background_color='white').generate(text)\n",
    "    \n",
    "    # Afficher le nuage de mots\n",
    "    \n",
    "    #plt.figure(figsize=(10, 5))\n",
    "    #plt.imshow(wordcloud, interpolation='bilinear')\n",
    "    #plt.title(f'Nuage de mots pour la clé {key}', pad=30)\n",
    "    #plt.axis('off')\n",
    "    #plt.show()\n"
   ]
  },
  {
   "cell_type": "code",
   "execution_count": null,
   "metadata": {},
   "outputs": [],
   "source": [
    "\n",
    "\n",
    "from collections import Counter\n",
    "\n",
    "def get_top_n_frequent_words(word_list, top_n):\n",
    "    # Compter les fréquences des mots\n",
    "    word_counts = Counter(word_list)\n",
    "    \n",
    "    # Trier les mots par fréquence en ordre décroissant et prendre les top_n\n",
    "    most_common_words = word_counts.most_common(top_n)\n",
    "    \n",
    "    # Extraire les mots et les mettre dans un ensemble\n",
    "    most_frequent_words_set = {word for word, count in most_common_words}\n",
    "    \n",
    "    return most_frequent_words_set\n",
    "\n",
    "# Exemple de liste de mots\n",
    "words = [\"Python\", \"est\", \"génial\", \"Python\", \"utilisé\", \"pour\", \"analyse\", \"données\", \"machine\", \"apprentissage\", \"Python\", \"est\", \"intelligence\", \"données\", \"analyse\", \"apprentissage\", \"génial\"]\n",
    "\n",
    "# Obtenir les 5 mots les plus fréquents sous forme d'ensemble\n",
    "top_n = 5\n",
    "most_frequent_words_set = get_top_n_frequent_words(words, top_n)\n",
    "print(most_frequent_words_set)\n",
    "\n"
   ]
  },
  {
   "cell_type": "code",
   "execution_count": null,
   "metadata": {},
   "outputs": [],
   "source": []
  },
  {
   "cell_type": "code",
   "execution_count": null,
   "metadata": {},
   "outputs": [],
   "source": []
  },
  {
   "cell_type": "code",
   "execution_count": null,
   "metadata": {},
   "outputs": [],
   "source": []
  },
  {
   "cell_type": "code",
   "execution_count": null,
   "metadata": {},
   "outputs": [],
   "source": []
  },
  {
   "cell_type": "code",
   "execution_count": null,
   "metadata": {},
   "outputs": [],
   "source": []
  },
  {
   "cell_type": "code",
   "execution_count": null,
   "metadata": {},
   "outputs": [],
   "source": []
  },
  {
   "cell_type": "code",
   "execution_count": null,
   "metadata": {},
   "outputs": [],
   "source": []
  },
  {
   "cell_type": "code",
   "execution_count": null,
   "metadata": {},
   "outputs": [],
   "source": []
  },
  {
   "cell_type": "code",
   "execution_count": null,
   "metadata": {},
   "outputs": [],
   "source": []
  },
  {
   "cell_type": "code",
   "execution_count": null,
   "metadata": {},
   "outputs": [],
   "source": []
  }
 ],
 "metadata": {
  "kernelspec": {
   "display_name": "Python 3 (ipykernel)",
   "language": "python",
   "name": "python3"
  },
  "language_info": {
   "codemirror_mode": {
    "name": "ipython",
    "version": 3
   },
   "file_extension": ".py",
   "mimetype": "text/x-python",
   "name": "python",
   "nbconvert_exporter": "python",
   "pygments_lexer": "ipython3",
   "version": "3.11.9"
  }
 },
 "nbformat": 4,
 "nbformat_minor": 4
}
